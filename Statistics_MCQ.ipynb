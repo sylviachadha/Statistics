{
 "cells": [
  {
   "cell_type": "markdown",
   "id": "b5f49712",
   "metadata": {},
   "source": [
    "# 1. Boxplot"
   ]
  },
  {
   "cell_type": "markdown",
   "id": "d7678856",
   "metadata": {},
   "source": [
    "https://www.thatquiz.org/tq/preview?c=rncmsa4b&s=nj87z8"
   ]
  },
  {
   "cell_type": "markdown",
   "id": "723357e1",
   "metadata": {},
   "source": [
    "# 2. Central Tendency"
   ]
  },
  {
   "cell_type": "markdown",
   "id": "7810c756",
   "metadata": {},
   "source": [
    "https://www.proprofs.com/quiz-school/story.php?title=measures-central-tendency_1"
   ]
  },
  {
   "cell_type": "markdown",
   "id": "847d8c14",
   "metadata": {},
   "source": [
    "# 3. Measures of Dispersion"
   ]
  },
  {
   "cell_type": "markdown",
   "id": "b44de398",
   "metadata": {},
   "source": [
    "https://wps.pearsoned.com/bajpai_businessstatistics_e/128/32982/8443640.cw/index.html"
   ]
  },
  {
   "cell_type": "code",
   "execution_count": null,
   "id": "6e9c82f6",
   "metadata": {},
   "outputs": [],
   "source": []
  },
  {
   "cell_type": "code",
   "execution_count": null,
   "id": "03e235e9",
   "metadata": {},
   "outputs": [],
   "source": []
  }
 ],
 "metadata": {
  "kernelspec": {
   "display_name": "Python 3 (ipykernel)",
   "language": "python",
   "name": "python3"
  },
  "language_info": {
   "codemirror_mode": {
    "name": "ipython",
    "version": 3
   },
   "file_extension": ".py",
   "mimetype": "text/x-python",
   "name": "python",
   "nbconvert_exporter": "python",
   "pygments_lexer": "ipython3",
   "version": "3.8.15"
  }
 },
 "nbformat": 4,
 "nbformat_minor": 5
}
