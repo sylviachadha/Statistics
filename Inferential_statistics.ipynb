{
 "cells": [
  {
   "cell_type": "markdown",
   "id": "dcf36af6",
   "metadata": {},
   "source": [
    "## Inferential Statistics\n",
    "It has two areas which are -\n",
    "### 1. Estimating Parameter\n",
    "### 2. Hypothesis Testing"
   ]
  },
  {
   "cell_type": "markdown",
   "id": "77b83aa5",
   "metadata": {},
   "source": [
    "## Types of errors"
   ]
  },
  {
   "cell_type": "markdown",
   "id": "115bb765",
   "metadata": {},
   "source": [
    "**Type 1 error - False Positive**<br>\n",
    "e.g. an innocent subjected guilty in a court of justice<br>\n",
    "Null hypothesis is rejected, even though it is true and should not be rejected. \n",
    "\n",
    " \n",
    "**Type 2 error - False Negative**<br>\n",
    "e.g. a criminal set free in a court of justice<br>\n",
    "Null hypothesis is accepted (or failed to reject null hypothesis) even though it is incorrect and should be rejected."
   ]
  },
  {
   "cell_type": "code",
   "execution_count": null,
   "id": "349d1f59",
   "metadata": {},
   "outputs": [],
   "source": []
  }
 ],
 "metadata": {
  "kernelspec": {
   "display_name": "Python 3 (ipykernel)",
   "language": "python",
   "name": "python3"
  },
  "language_info": {
   "codemirror_mode": {
    "name": "ipython",
    "version": 3
   },
   "file_extension": ".py",
   "mimetype": "text/x-python",
   "name": "python",
   "nbconvert_exporter": "python",
   "pygments_lexer": "ipython3",
   "version": "3.7.7"
  }
 },
 "nbformat": 4,
 "nbformat_minor": 5
}
